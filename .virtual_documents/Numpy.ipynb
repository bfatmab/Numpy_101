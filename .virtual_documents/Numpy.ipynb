


import numpy as np


a= np.array([1,2,3,4])
b= np.array([2,4,6,8])
a*b


# array'in boyutuna bakalım
a.shape


# 1*15 boyutunda bir array oluşturalım
numbers = np.array([1,2,3,4,5,6,7,8,9,10,11,12,13,14,15])



# 1*15'lik arrayi 3*5 lik bir matrise çevirelim(tr)
numbers = numbers.reshape(3,5)
numbers


#ndim: boyut sayısı
#shape: boyut bilgisi
#toplam eleman sayısı
#dtype : array veri tipi

a = np.random.randint(10, size=5)
a.ndim
a.type


# sıfırlardan oluşan array oluşturalım
sifir_dizi = np.zeros((3,4))
sifir_dizi


# birlerden oluşan array oluşturalım
bir_dizi = np.ones((4,5))
bir_dizi


# boş bir array oluşturalım
bos_dizi = np.empty((2,3))
bos_dizi # python da sıfır boş anlamına gelmektedir.
# aşağıda görüldüğü gibi sayılar sıfıra yakınsamaktadır


# arange(x,y, basamak): x'den başlar y'ye kadar (y dahil değil), basamak büyüklüğünde artarak
dizi_aralik = np.arange(10,50,6)
dizi_aralik


# matematiksel işlemler için 2 tane dizi oluşturalım
a = np.array([1,2,3])
b = np.array([4,5,6])


print(a+b) # dizi toplaması
print(a-b) # dizi çıkarması
print(b**2) # dizinin kendisi ile çarpımı


# filtreleme
a<2


# Hadamard çarpımı ve matris çarpımı için2 tane array oluşturalım
a = np.array([[1,2,3],[4,5,6]])
print(a)
b = np.array([[1,2,9],[4,5,6]])
print(b)


# Hadamard çarpımı
print(a*b)


# Matris çarpımı
a.dot(b.T)


# dizinin elemanlarını toplama
print(a)
a.sum()


# dizinin satırlarını toplama
a.sum(axis=1)


a.sum(axis=0)


# rastgele sayı üretme [0,1] arasında Sürekli üniform dağılım - 4*3 matris
rastgele_dizi = np.random.random((4,3))
rastgele_dizi


dizi2D = np.array([[1,2,3],[4,5,6],[7,8,9]])
dizi2D


# vektör haline getirme
vektor = dizi2D.ravel()
vektor


# 0 ile 10 arasında (10 hariç) rastgele 5 tam sayı üretir
random_integers = np.random.randint(0, 10, size=5)
print(random_integers)
