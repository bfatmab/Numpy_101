{
 "cells": [
  {
   "cell_type": "markdown",
   "id": "623ac47d-36d6-4469-bfae-54879ac08bf1",
   "metadata": {},
   "source": [
    "NUMPY :NUMERICAL PYTHON"
   ]
  },
  {
   "cell_type": "code",
   "execution_count": 1,
   "id": "5f744d64-520a-47d3-a7dc-774da3a0ff3a",
   "metadata": {},
   "outputs": [],
   "source": [
    "import numpy as np"
   ]
  },
  {
   "cell_type": "code",
   "execution_count": 7,
   "id": "7030a470-ec54-4971-993d-44856cdec94b",
   "metadata": {},
   "outputs": [
    {
     "data": {
      "text/plain": [
       "array([ 2,  8, 18, 32])"
      ]
     },
     "execution_count": 7,
     "metadata": {},
     "output_type": "execute_result"
    }
   ],
   "source": [
    "a= np.array([1,2,3,4])\n",
    "b= np.array([2,4,6,8])\n",
    "a*b"
   ]
  },
  {
   "cell_type": "code",
   "execution_count": 10,
   "id": "6588f643-cabe-465a-965e-8185397e6658",
   "metadata": {},
   "outputs": [
    {
     "data": {
      "text/plain": [
       "(4,)"
      ]
     },
     "execution_count": 10,
     "metadata": {},
     "output_type": "execute_result"
    }
   ],
   "source": [
    "# array'in boyutuna bakalım\n",
    "a.shape"
   ]
  },
  {
   "cell_type": "code",
   "execution_count": 13,
   "id": "cc66288c-4cb6-4c0b-9e66-7eb7ab4ddce0",
   "metadata": {},
   "outputs": [],
   "source": [
    "# 1*15 boyutunda bir array oluşturalım\n",
    "numbers = np.array([1,2,3,4,5,6,7,8,9,10,11,12,13,14,15])\n"
   ]
  },
  {
   "cell_type": "code",
   "execution_count": 16,
   "id": "42d4a2e6-c199-4a5f-9441-1972b4971f2f",
   "metadata": {},
   "outputs": [
    {
     "data": {
      "text/plain": [
       "array([[ 1,  2,  3,  4,  5],\n",
       "       [ 6,  7,  8,  9, 10],\n",
       "       [11, 12, 13, 14, 15]])"
      ]
     },
     "execution_count": 16,
     "metadata": {},
     "output_type": "execute_result"
    }
   ],
   "source": [
    "# 1*15'lik arrayi 3*5 lik bir matrise çevirelim(tr)\n",
    "numbers = numbers.reshape(3,5)\n",
    "numbers"
   ]
  },
  {
   "cell_type": "code",
   "execution_count": 20,
   "id": "509aef1b-998b-40f1-8ac4-6b6698a6b6ce",
   "metadata": {},
   "outputs": [
    {
     "data": {
      "text/plain": [
       "1"
      ]
     },
     "execution_count": 20,
     "metadata": {},
     "output_type": "execute_result"
    }
   ],
   "source": [
    "#ndim: boyut sayısı\n",
    "#shape: boyut bilgisi\n",
    "#toplam eleman sayısı\n",
    "#dtype : array veri tipi\n",
    "\n",
    "a = np.random.randint(10, size=5)\n",
    "a.ndim\n",
    "a.type"
   ]
  },
  {
   "cell_type": "code",
   "execution_count": 21,
   "id": "91b78033-dc47-4009-a29c-dd6af3560bb6",
   "metadata": {},
   "outputs": [
    {
     "data": {
      "text/plain": [
       "array([[0., 0., 0., 0.],\n",
       "       [0., 0., 0., 0.],\n",
       "       [0., 0., 0., 0.]])"
      ]
     },
     "execution_count": 21,
     "metadata": {},
     "output_type": "execute_result"
    }
   ],
   "source": [
    "# sıfırlardan oluşan array oluşturalım\n",
    "sifir_dizi = np.zeros((3,4))\n",
    "sifir_dizi"
   ]
  },
  {
   "cell_type": "code",
   "execution_count": 22,
   "id": "bca56cd3-3ebf-42a9-a333-4bf68859cef5",
   "metadata": {},
   "outputs": [
    {
     "data": {
      "text/plain": [
       "array([[1., 1., 1., 1., 1.],\n",
       "       [1., 1., 1., 1., 1.],\n",
       "       [1., 1., 1., 1., 1.],\n",
       "       [1., 1., 1., 1., 1.]])"
      ]
     },
     "execution_count": 22,
     "metadata": {},
     "output_type": "execute_result"
    }
   ],
   "source": [
    "# birlerden oluşan array oluşturalım\n",
    "bir_dizi = np.ones((4,5))\n",
    "bir_dizi"
   ]
  },
  {
   "cell_type": "code",
   "execution_count": 25,
   "id": "8d3297ec-ac58-4b2b-ba69-39f470fcd7b5",
   "metadata": {},
   "outputs": [
    {
     "data": {
      "text/plain": [
       "array([[6.23042070e-307, 4.67296746e-307, 1.69121096e-306],\n",
       "       [4.45036841e-307, 1.89146896e-307, 7.56571288e-307]])"
      ]
     },
     "execution_count": 25,
     "metadata": {},
     "output_type": "execute_result"
    }
   ],
   "source": [
    "# boş bir array oluşturalım\n",
    "bos_dizi = np.empty((2,3))\n",
    "bos_dizi # python da sıfır boş anlamına gelmektedir.\n",
    "# aşağıda görüldüğü gibi sayılar sıfıra yakınsamaktadır"
   ]
  },
  {
   "cell_type": "code",
   "execution_count": 26,
   "id": "65dfc9fc-5728-4016-8707-3f666331129d",
   "metadata": {},
   "outputs": [
    {
     "data": {
      "text/plain": [
       "array([10, 16, 22, 28, 34, 40, 46])"
      ]
     },
     "execution_count": 26,
     "metadata": {},
     "output_type": "execute_result"
    }
   ],
   "source": [
    "# arange(x,y, basamak): x'den başlar y'ye kadar (y dahil değil), basamak büyüklüğünde artarak\n",
    "dizi_aralik = np.arange(10,50,6)\n",
    "dizi_aralik"
   ]
  },
  {
   "cell_type": "code",
   "execution_count": 27,
   "id": "79b74ca5-ff1a-4884-95a3-8a9c9a30b792",
   "metadata": {},
   "outputs": [],
   "source": [
    "# matematiksel işlemler için 2 tane dizi oluşturalım\n",
    "a = np.array([1,2,3])\n",
    "b = np.array([4,5,6])"
   ]
  },
  {
   "cell_type": "code",
   "execution_count": 28,
   "id": "97511c00-ad22-4dae-9983-085e2481e49e",
   "metadata": {},
   "outputs": [
    {
     "name": "stdout",
     "output_type": "stream",
     "text": [
      "[5 7 9]\n",
      "[-3 -3 -3]\n",
      "[16 25 36]\n"
     ]
    }
   ],
   "source": [
    "print(a+b) # dizi toplaması\n",
    "print(a-b) # dizi çıkarması\n",
    "print(b**2) # dizinin kendisi ile çarpımı"
   ]
  },
  {
   "cell_type": "code",
   "execution_count": 29,
   "id": "6f079ec2-37e6-4aec-847d-a1cb8c2b92fc",
   "metadata": {},
   "outputs": [
    {
     "data": {
      "text/plain": [
       "array([ True, False, False])"
      ]
     },
     "execution_count": 29,
     "metadata": {},
     "output_type": "execute_result"
    }
   ],
   "source": [
    "# filtreleme\n",
    "a<2"
   ]
  },
  {
   "cell_type": "code",
   "execution_count": 30,
   "id": "3617f4f4-6b47-4626-8176-19186e40412c",
   "metadata": {},
   "outputs": [
    {
     "name": "stdout",
     "output_type": "stream",
     "text": [
      "[[1 2 3]\n",
      " [4 5 6]]\n",
      "[[1 2 9]\n",
      " [4 5 6]]\n"
     ]
    }
   ],
   "source": [
    "# Hadamard çarpımı ve matris çarpımı için2 tane array oluşturalım\n",
    "a = np.array([[1,2,3],[4,5,6]])\n",
    "print(a)\n",
    "b = np.array([[1,2,9],[4,5,6]])\n",
    "print(b)"
   ]
  },
  {
   "cell_type": "code",
   "execution_count": 31,
   "id": "20b5c3c8-120a-4e26-b3cf-a5242eb5b418",
   "metadata": {},
   "outputs": [
    {
     "name": "stdout",
     "output_type": "stream",
     "text": [
      "[[ 1  4 27]\n",
      " [16 25 36]]\n"
     ]
    }
   ],
   "source": [
    "# Hadamard çarpımı\n",
    "print(a*b)"
   ]
  },
  {
   "cell_type": "code",
   "execution_count": 32,
   "id": "84cf97c6-4116-4ccb-b173-b7dbc30550b3",
   "metadata": {},
   "outputs": [
    {
     "data": {
      "text/plain": [
       "array([[32, 32],\n",
       "       [68, 77]])"
      ]
     },
     "execution_count": 32,
     "metadata": {},
     "output_type": "execute_result"
    }
   ],
   "source": [
    "# Matris çarpımı\n",
    "a.dot(b.T)"
   ]
  },
  {
   "cell_type": "code",
   "execution_count": null,
   "id": "cc1d4ead-0b72-4c2c-bed6-9146966a3554",
   "metadata": {},
   "outputs": [],
   "source": [
    "# dizinin elemanlarını toplama\n",
    "print(a)\n",
    "a.sum()"
   ]
  },
  {
   "cell_type": "code",
   "execution_count": 33,
   "id": "f8f28937-ab9d-45db-a18d-3b59a4fe36dc",
   "metadata": {},
   "outputs": [
    {
     "data": {
      "text/plain": [
       "array([ 6, 15])"
      ]
     },
     "execution_count": 33,
     "metadata": {},
     "output_type": "execute_result"
    }
   ],
   "source": [
    "# dizinin satırlarını toplama\n",
    "a.sum(axis=1)"
   ]
  },
  {
   "cell_type": "code",
   "execution_count": 34,
   "id": "f43b616e-0abe-43b9-95e3-fa15b3aad091",
   "metadata": {},
   "outputs": [
    {
     "data": {
      "text/plain": [
       "array([5, 7, 9])"
      ]
     },
     "execution_count": 34,
     "metadata": {},
     "output_type": "execute_result"
    }
   ],
   "source": [
    "a.sum(axis=0)"
   ]
  },
  {
   "cell_type": "code",
   "execution_count": 35,
   "id": "7191b31c-530e-4fa7-8290-23fdfaa9078c",
   "metadata": {},
   "outputs": [
    {
     "data": {
      "text/plain": [
       "array([[0.97648895, 0.41026126, 0.90997462],\n",
       "       [0.42049375, 0.5106472 , 0.92314725],\n",
       "       [0.95546518, 0.79666296, 0.9384346 ],\n",
       "       [0.38841606, 0.41227752, 0.17781226]])"
      ]
     },
     "execution_count": 35,
     "metadata": {},
     "output_type": "execute_result"
    }
   ],
   "source": [
    "# rastgele sayı üretme [0,1] arasında Sürekli üniform dağılım - 4*3 matris\n",
    "rastgele_dizi = np.random.random((4,3))\n",
    "rastgele_dizi"
   ]
  },
  {
   "cell_type": "code",
   "execution_count": 36,
   "id": "86bb00f5-8a96-4537-8f9d-1e258bee54e1",
   "metadata": {},
   "outputs": [
    {
     "data": {
      "text/plain": [
       "array([[1, 2, 3],\n",
       "       [4, 5, 6],\n",
       "       [7, 8, 9]])"
      ]
     },
     "execution_count": 36,
     "metadata": {},
     "output_type": "execute_result"
    }
   ],
   "source": [
    "dizi2D = np.array([[1,2,3],[4,5,6],[7,8,9]])\n",
    "dizi2D"
   ]
  },
  {
   "cell_type": "code",
   "execution_count": 37,
   "id": "b146ee1b-a44e-48a2-9f79-d1228ca010cb",
   "metadata": {},
   "outputs": [
    {
     "data": {
      "text/plain": [
       "array([1, 2, 3, 4, 5, 6, 7, 8, 9])"
      ]
     },
     "execution_count": 37,
     "metadata": {},
     "output_type": "execute_result"
    }
   ],
   "source": [
    "# vektör haline getirme\n",
    "vektor = dizi2D.ravel()\n",
    "vektor"
   ]
  },
  {
   "cell_type": "code",
   "execution_count": null,
   "id": "aadf5d0f-ecba-493e-90f4-22ea81ccdb78",
   "metadata": {},
   "outputs": [],
   "source": []
  }
 ],
 "metadata": {
  "kernelspec": {
   "display_name": "Python 3 (ipykernel)",
   "language": "python",
   "name": "python3"
  },
  "language_info": {
   "codemirror_mode": {
    "name": "ipython",
    "version": 3
   },
   "file_extension": ".py",
   "mimetype": "text/x-python",
   "name": "python",
   "nbconvert_exporter": "python",
   "pygments_lexer": "ipython3",
   "version": "3.11.7"
  }
 },
 "nbformat": 4,
 "nbformat_minor": 5
}
